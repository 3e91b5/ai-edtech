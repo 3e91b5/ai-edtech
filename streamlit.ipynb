{
  "cells": [
    {
      "cell_type": "code",
      "execution_count": null,
      "metadata": {
        "id": "EUk3DFBpaRdr"
      },
      "outputs": [
        {
          "name": "stdout",
          "output_type": "stream",
          "text": [
            "Defaulting to user installation because normal site-packages is not writeable\n",
            "Requirement already satisfied: v in /home/jhkim/.local/lib/python3.10/site-packages (1)\n",
            "Defaulting to user installation because normal site-packages is not writeable\n",
            "Requirement already satisfied: streamlit_option_menu in /home/jhkim/.local/lib/python3.10/site-packages (0.3.6)\n",
            "Requirement already satisfied: streamlit>=0.63 in /home/jhkim/.local/lib/python3.10/site-packages (from streamlit_option_menu) (1.28.2)\n",
            "Requirement already satisfied: click<9,>=7.0 in /usr/lib/python3/dist-packages (from streamlit>=0.63->streamlit_option_menu) (8.0.3)\n",
            "Requirement already satisfied: tornado<7,>=6.0.3 in /home/jhkim/.local/lib/python3.10/site-packages (from streamlit>=0.63->streamlit_option_menu) (6.3.3)\n",
            "Requirement already satisfied: pillow<11,>=7.1.0 in /home/jhkim/.local/lib/python3.10/site-packages (from streamlit>=0.63->streamlit_option_menu) (9.4.0)\n",
            "Requirement already satisfied: rich<14,>=10.14.0 in /home/jhkim/.local/lib/python3.10/site-packages (from streamlit>=0.63->streamlit_option_menu) (13.7.0)\n",
            "Requirement already satisfied: validators<1,>=0.2 in /home/jhkim/.local/lib/python3.10/site-packages (from streamlit>=0.63->streamlit_option_menu) (0.22.0)\n",
            "Requirement already satisfied: importlib-metadata<7,>=1.4 in /home/jhkim/.local/lib/python3.10/site-packages (from streamlit>=0.63->streamlit_option_menu) (6.8.0)\n",
            "Requirement already satisfied: pyarrow>=6.0 in /home/jhkim/.local/lib/python3.10/site-packages (from streamlit>=0.63->streamlit_option_menu) (14.0.1)\n",
            "Requirement already satisfied: typing-extensions<5,>=4.3.0 in /home/jhkim/.local/lib/python3.10/site-packages (from streamlit>=0.63->streamlit_option_menu) (4.8.0)\n",
            "Requirement already satisfied: pandas<3,>=1.3.0 in /home/jhkim/.local/lib/python3.10/site-packages (from streamlit>=0.63->streamlit_option_menu) (2.1.3)\n",
            "Requirement already satisfied: python-dateutil<3,>=2.7.3 in /home/jhkim/.local/lib/python3.10/site-packages (from streamlit>=0.63->streamlit_option_menu) (2.8.2)\n",
            "Requirement already satisfied: tenacity<9,>=8.1.0 in /home/jhkim/.local/lib/python3.10/site-packages (from streamlit>=0.63->streamlit_option_menu) (8.2.3)\n",
            "Requirement already satisfied: pydeck<1,>=0.8.0b4 in /home/jhkim/.local/lib/python3.10/site-packages (from streamlit>=0.63->streamlit_option_menu) (0.8.1b0)\n",
            "Requirement already satisfied: packaging<24,>=16.8 in /home/jhkim/.local/lib/python3.10/site-packages (from streamlit>=0.63->streamlit_option_menu) (23.0)\n",
            "Requirement already satisfied: protobuf<5,>=3.20 in /home/jhkim/.local/lib/python3.10/site-packages (from streamlit>=0.63->streamlit_option_menu) (4.25.1)\n",
            "Requirement already satisfied: requests<3,>=2.27 in /home/jhkim/.local/lib/python3.10/site-packages (from streamlit>=0.63->streamlit_option_menu) (2.31.0)\n",
            "Requirement already satisfied: altair<6,>=4.0 in /home/jhkim/.local/lib/python3.10/site-packages (from streamlit>=0.63->streamlit_option_menu) (5.1.2)\n",
            "Requirement already satisfied: gitpython!=3.1.19,<4,>=3.0.7 in /home/jhkim/.local/lib/python3.10/site-packages (from streamlit>=0.63->streamlit_option_menu) (3.1.40)\n",
            "Requirement already satisfied: numpy<2,>=1.19.3 in /home/jhkim/.local/lib/python3.10/site-packages (from streamlit>=0.63->streamlit_option_menu) (1.24.1)\n",
            "Requirement already satisfied: cachetools<6,>=4.0 in /home/jhkim/.local/lib/python3.10/site-packages (from streamlit>=0.63->streamlit_option_menu) (5.3.2)\n",
            "Requirement already satisfied: watchdog>=2.1.5 in /home/jhkim/.local/lib/python3.10/site-packages (from streamlit>=0.63->streamlit_option_menu) (3.0.0)\n",
            "Requirement already satisfied: toml<2,>=0.10.1 in /home/jhkim/.local/lib/python3.10/site-packages (from streamlit>=0.63->streamlit_option_menu) (0.10.2)\n",
            "Requirement already satisfied: blinker<2,>=1.0.0 in /usr/lib/python3/dist-packages (from streamlit>=0.63->streamlit_option_menu) (1.4)\n",
            "Requirement already satisfied: tzlocal<6,>=1.1 in /home/jhkim/.local/lib/python3.10/site-packages (from streamlit>=0.63->streamlit_option_menu) (5.2)\n",
            "Requirement already satisfied: jinja2 in /usr/lib/python3/dist-packages (from altair<6,>=4.0->streamlit>=0.63->streamlit_option_menu) (3.0.3)\n",
            "Requirement already satisfied: jsonschema>=3.0 in /usr/lib/python3/dist-packages (from altair<6,>=4.0->streamlit>=0.63->streamlit_option_menu) (3.2.0)\n",
            "Requirement already satisfied: toolz in /home/jhkim/.local/lib/python3.10/site-packages (from altair<6,>=4.0->streamlit>=0.63->streamlit_option_menu) (0.12.0)\n",
            "Requirement already satisfied: gitdb<5,>=4.0.1 in /home/jhkim/.local/lib/python3.10/site-packages (from gitpython!=3.1.19,<4,>=3.0.7->streamlit>=0.63->streamlit_option_menu) (4.0.11)\n",
            "Requirement already satisfied: zipp>=0.5 in /usr/lib/python3/dist-packages (from importlib-metadata<7,>=1.4->streamlit>=0.63->streamlit_option_menu) (1.0.0)\n",
            "Requirement already satisfied: pytz>=2020.1 in /usr/lib/python3/dist-packages (from pandas<3,>=1.3.0->streamlit>=0.63->streamlit_option_menu) (2022.1)\n",
            "Requirement already satisfied: tzdata>=2022.1 in /home/jhkim/.local/lib/python3.10/site-packages (from pandas<3,>=1.3.0->streamlit>=0.63->streamlit_option_menu) (2023.3)\n",
            "Requirement already satisfied: six>=1.5 in /usr/lib/python3/dist-packages (from python-dateutil<3,>=2.7.3->streamlit>=0.63->streamlit_option_menu) (1.16.0)\n",
            "Requirement already satisfied: idna<4,>=2.5 in /usr/lib/python3/dist-packages (from requests<3,>=2.27->streamlit>=0.63->streamlit_option_menu) (3.3)\n",
            "Requirement already satisfied: certifi>=2017.4.17 in /usr/lib/python3/dist-packages (from requests<3,>=2.27->streamlit>=0.63->streamlit_option_menu) (2020.6.20)\n",
            "Requirement already satisfied: charset-normalizer<4,>=2 in /home/jhkim/.local/lib/python3.10/site-packages (from requests<3,>=2.27->streamlit>=0.63->streamlit_option_menu) (2.1.1)\n",
            "Requirement already satisfied: urllib3<3,>=1.21.1 in /usr/lib/python3/dist-packages (from requests<3,>=2.27->streamlit>=0.63->streamlit_option_menu) (1.26.5)\n",
            "Requirement already satisfied: pygments<3.0.0,>=2.13.0 in /home/jhkim/.local/lib/python3.10/site-packages (from rich<14,>=10.14.0->streamlit>=0.63->streamlit_option_menu) (2.17.1)\n",
            "Requirement already satisfied: markdown-it-py>=2.2.0 in /home/jhkim/.local/lib/python3.10/site-packages (from rich<14,>=10.14.0->streamlit>=0.63->streamlit_option_menu) (3.0.0)\n",
            "Requirement already satisfied: smmap<6,>=3.0.1 in /home/jhkim/.local/lib/python3.10/site-packages (from gitdb<5,>=4.0.1->gitpython!=3.1.19,<4,>=3.0.7->streamlit>=0.63->streamlit_option_menu) (5.0.1)\n",
            "Requirement already satisfied: mdurl~=0.1 in /home/jhkim/.local/lib/python3.10/site-packages (from markdown-it-py>=2.2.0->rich<14,>=10.14.0->streamlit>=0.63->streamlit_option_menu) (0.1.2)\n",
            "Defaulting to user installation because normal site-packages is not writeable\n",
            "Requirement already satisfied: st-pages in /home/jhkim/.local/lib/python3.10/site-packages (0.4.5)\n",
            "Requirement already satisfied: streamlit>=1.10.0 in /home/jhkim/.local/lib/python3.10/site-packages (from st-pages) (1.28.2)\n",
            "Requirement already satisfied: pyarrow>=6.0 in /home/jhkim/.local/lib/python3.10/site-packages (from streamlit>=1.10.0->st-pages) (14.0.1)\n",
            "Requirement already satisfied: pillow<11,>=7.1.0 in /home/jhkim/.local/lib/python3.10/site-packages (from streamlit>=1.10.0->st-pages) (9.4.0)\n",
            "Requirement already satisfied: altair<6,>=4.0 in /home/jhkim/.local/lib/python3.10/site-packages (from streamlit>=1.10.0->st-pages) (5.1.2)\n",
            "Requirement already satisfied: blinker<2,>=1.0.0 in /usr/lib/python3/dist-packages (from streamlit>=1.10.0->st-pages) (1.4)\n",
            "Requirement already satisfied: cachetools<6,>=4.0 in /home/jhkim/.local/lib/python3.10/site-packages (from streamlit>=1.10.0->st-pages) (5.3.2)\n",
            "Requirement already satisfied: packaging<24,>=16.8 in /home/jhkim/.local/lib/python3.10/site-packages (from streamlit>=1.10.0->st-pages) (23.0)\n",
            "Requirement already satisfied: tenacity<9,>=8.1.0 in /home/jhkim/.local/lib/python3.10/site-packages (from streamlit>=1.10.0->st-pages) (8.2.3)\n",
            "Requirement already satisfied: requests<3,>=2.27 in /home/jhkim/.local/lib/python3.10/site-packages (from streamlit>=1.10.0->st-pages) (2.31.0)\n",
            "Requirement already satisfied: validators<1,>=0.2 in /home/jhkim/.local/lib/python3.10/site-packages (from streamlit>=1.10.0->st-pages) (0.22.0)\n",
            "Requirement already satisfied: pydeck<1,>=0.8.0b4 in /home/jhkim/.local/lib/python3.10/site-packages (from streamlit>=1.10.0->st-pages) (0.8.1b0)\n",
            "Requirement already satisfied: tornado<7,>=6.0.3 in /home/jhkim/.local/lib/python3.10/site-packages (from streamlit>=1.10.0->st-pages) (6.3.3)\n",
            "Requirement already satisfied: python-dateutil<3,>=2.7.3 in /home/jhkim/.local/lib/python3.10/site-packages (from streamlit>=1.10.0->st-pages) (2.8.2)\n",
            "Requirement already satisfied: tzlocal<6,>=1.1 in /home/jhkim/.local/lib/python3.10/site-packages (from streamlit>=1.10.0->st-pages) (5.2)\n",
            "Requirement already satisfied: importlib-metadata<7,>=1.4 in /home/jhkim/.local/lib/python3.10/site-packages (from streamlit>=1.10.0->st-pages) (6.8.0)\n",
            "Requirement already satisfied: click<9,>=7.0 in /usr/lib/python3/dist-packages (from streamlit>=1.10.0->st-pages) (8.0.3)\n",
            "Requirement already satisfied: typing-extensions<5,>=4.3.0 in /home/jhkim/.local/lib/python3.10/site-packages (from streamlit>=1.10.0->st-pages) (4.8.0)\n",
            "Requirement already satisfied: pandas<3,>=1.3.0 in /home/jhkim/.local/lib/python3.10/site-packages (from streamlit>=1.10.0->st-pages) (2.1.3)\n",
            "Requirement already satisfied: watchdog>=2.1.5 in /home/jhkim/.local/lib/python3.10/site-packages (from streamlit>=1.10.0->st-pages) (3.0.0)\n",
            "Requirement already satisfied: protobuf<5,>=3.20 in /home/jhkim/.local/lib/python3.10/site-packages (from streamlit>=1.10.0->st-pages) (4.25.1)\n",
            "Requirement already satisfied: numpy<2,>=1.19.3 in /home/jhkim/.local/lib/python3.10/site-packages (from streamlit>=1.10.0->st-pages) (1.24.1)\n",
            "Requirement already satisfied: rich<14,>=10.14.0 in /home/jhkim/.local/lib/python3.10/site-packages (from streamlit>=1.10.0->st-pages) (13.7.0)\n",
            "Requirement already satisfied: gitpython!=3.1.19,<4,>=3.0.7 in /home/jhkim/.local/lib/python3.10/site-packages (from streamlit>=1.10.0->st-pages) (3.1.40)\n",
            "Requirement already satisfied: toml<2,>=0.10.1 in /home/jhkim/.local/lib/python3.10/site-packages (from streamlit>=1.10.0->st-pages) (0.10.2)\n",
            "Requirement already satisfied: jsonschema>=3.0 in /usr/lib/python3/dist-packages (from altair<6,>=4.0->streamlit>=1.10.0->st-pages) (3.2.0)\n",
            "Requirement already satisfied: jinja2 in /usr/lib/python3/dist-packages (from altair<6,>=4.0->streamlit>=1.10.0->st-pages) (3.0.3)\n",
            "Requirement already satisfied: toolz in /home/jhkim/.local/lib/python3.10/site-packages (from altair<6,>=4.0->streamlit>=1.10.0->st-pages) (0.12.0)\n",
            "Requirement already satisfied: gitdb<5,>=4.0.1 in /home/jhkim/.local/lib/python3.10/site-packages (from gitpython!=3.1.19,<4,>=3.0.7->streamlit>=1.10.0->st-pages) (4.0.11)\n",
            "Requirement already satisfied: zipp>=0.5 in /usr/lib/python3/dist-packages (from importlib-metadata<7,>=1.4->streamlit>=1.10.0->st-pages) (1.0.0)\n",
            "Requirement already satisfied: pytz>=2020.1 in /usr/lib/python3/dist-packages (from pandas<3,>=1.3.0->streamlit>=1.10.0->st-pages) (2022.1)\n",
            "Requirement already satisfied: tzdata>=2022.1 in /home/jhkim/.local/lib/python3.10/site-packages (from pandas<3,>=1.3.0->streamlit>=1.10.0->st-pages) (2023.3)\n",
            "Requirement already satisfied: six>=1.5 in /usr/lib/python3/dist-packages (from python-dateutil<3,>=2.7.3->streamlit>=1.10.0->st-pages) (1.16.0)\n",
            "Requirement already satisfied: certifi>=2017.4.17 in /usr/lib/python3/dist-packages (from requests<3,>=2.27->streamlit>=1.10.0->st-pages) (2020.6.20)\n",
            "Requirement already satisfied: idna<4,>=2.5 in /usr/lib/python3/dist-packages (from requests<3,>=2.27->streamlit>=1.10.0->st-pages) (3.3)\n",
            "Requirement already satisfied: urllib3<3,>=1.21.1 in /usr/lib/python3/dist-packages (from requests<3,>=2.27->streamlit>=1.10.0->st-pages) (1.26.5)\n",
            "Requirement already satisfied: charset-normalizer<4,>=2 in /home/jhkim/.local/lib/python3.10/site-packages (from requests<3,>=2.27->streamlit>=1.10.0->st-pages) (2.1.1)\n",
            "Requirement already satisfied: markdown-it-py>=2.2.0 in /home/jhkim/.local/lib/python3.10/site-packages (from rich<14,>=10.14.0->streamlit>=1.10.0->st-pages) (3.0.0)\n",
            "Requirement already satisfied: pygments<3.0.0,>=2.13.0 in /home/jhkim/.local/lib/python3.10/site-packages (from rich<14,>=10.14.0->streamlit>=1.10.0->st-pages) (2.17.1)\n",
            "Requirement already satisfied: smmap<6,>=3.0.1 in /home/jhkim/.local/lib/python3.10/site-packages (from gitdb<5,>=4.0.1->gitpython!=3.1.19,<4,>=3.0.7->streamlit>=1.10.0->st-pages) (5.0.1)\n",
            "Requirement already satisfied: mdurl~=0.1 in /home/jhkim/.local/lib/python3.10/site-packages (from markdown-it-py>=2.2.0->rich<14,>=10.14.0->streamlit>=1.10.0->st-pages) (0.1.2)\n",
            "Defaulting to user installation because normal site-packages is not writeable\n",
            "Requirement already satisfied: cohere in /home/jhkim/.local/lib/python3.10/site-packages (4.35)\n",
            "Requirement already satisfied: urllib3<3,>=1.26 in /usr/lib/python3/dist-packages (from cohere) (1.26.5)\n",
            "Requirement already satisfied: aiohttp<4.0,>=3.0 in /home/jhkim/.local/lib/python3.10/site-packages (from cohere) (3.8.3)\n",
            "Requirement already satisfied: requests<3.0.0,>=2.25.0 in /home/jhkim/.local/lib/python3.10/site-packages (from cohere) (2.31.0)\n",
            "Requirement already satisfied: importlib_metadata<7.0,>=6.0 in /home/jhkim/.local/lib/python3.10/site-packages (from cohere) (6.8.0)\n",
            "Requirement already satisfied: fastavro==1.8.2 in /home/jhkim/.local/lib/python3.10/site-packages (from cohere) (1.8.2)\n",
            "Requirement already satisfied: backoff<3.0,>=2.0 in /home/jhkim/.local/lib/python3.10/site-packages (from cohere) (2.2.1)\n",
            "Requirement already satisfied: multidict<7.0,>=4.5 in /home/jhkim/.local/lib/python3.10/site-packages (from aiohttp<4.0,>=3.0->cohere) (6.0.4)\n",
            "Requirement already satisfied: charset-normalizer<3.0,>=2.0 in /home/jhkim/.local/lib/python3.10/site-packages (from aiohttp<4.0,>=3.0->cohere) (2.1.1)\n",
            "Requirement already satisfied: aiosignal>=1.1.2 in /home/jhkim/.local/lib/python3.10/site-packages (from aiohttp<4.0,>=3.0->cohere) (1.3.1)\n",
            "Requirement already satisfied: yarl<2.0,>=1.0 in /home/jhkim/.local/lib/python3.10/site-packages (from aiohttp<4.0,>=3.0->cohere) (1.8.2)\n",
            "Requirement already satisfied: async-timeout<5.0,>=4.0.0a3 in /home/jhkim/.local/lib/python3.10/site-packages (from aiohttp<4.0,>=3.0->cohere) (4.0.2)\n",
            "Requirement already satisfied: attrs>=17.3.0 in /usr/lib/python3/dist-packages (from aiohttp<4.0,>=3.0->cohere) (21.2.0)\n",
            "Requirement already satisfied: frozenlist>=1.1.1 in /home/jhkim/.local/lib/python3.10/site-packages (from aiohttp<4.0,>=3.0->cohere) (1.3.3)\n",
            "Requirement already satisfied: zipp>=0.5 in /usr/lib/python3/dist-packages (from importlib_metadata<7.0,>=6.0->cohere) (1.0.0)\n",
            "Requirement already satisfied: certifi>=2017.4.17 in /usr/lib/python3/dist-packages (from requests<3.0.0,>=2.25.0->cohere) (2020.6.20)\n",
            "Requirement already satisfied: idna<4,>=2.5 in /usr/lib/python3/dist-packages (from requests<3.0.0,>=2.25.0->cohere) (3.3)\n",
            "Defaulting to user installation because normal site-packages is not writeable\n",
            "Requirement already satisfied: tiktoken in /home/jhkim/.local/lib/python3.10/site-packages (0.5.1)\n",
            "Requirement already satisfied: requests>=2.26.0 in /home/jhkim/.local/lib/python3.10/site-packages (from tiktoken) (2.31.0)\n",
            "Requirement already satisfied: regex>=2022.1.18 in /home/jhkim/.local/lib/python3.10/site-packages (from tiktoken) (2023.10.3)\n",
            "Requirement already satisfied: charset-normalizer<4,>=2 in /home/jhkim/.local/lib/python3.10/site-packages (from requests>=2.26.0->tiktoken) (2.1.1)\n",
            "Requirement already satisfied: certifi>=2017.4.17 in /usr/lib/python3/dist-packages (from requests>=2.26.0->tiktoken) (2020.6.20)\n",
            "Requirement already satisfied: idna<4,>=2.5 in /usr/lib/python3/dist-packages (from requests>=2.26.0->tiktoken) (3.3)\n",
            "Requirement already satisfied: urllib3<3,>=1.21.1 in /usr/lib/python3/dist-packages (from requests>=2.26.0->tiktoken) (1.26.5)\n",
            "Defaulting to user installation because normal site-packages is not writeable\n",
            "Requirement already satisfied: openai in /home/jhkim/.local/lib/python3.10/site-packages (1.3.3)\n",
            "Requirement already satisfied: pydantic<3,>=1.9.0 in /home/jhkim/.local/lib/python3.10/site-packages (from openai) (2.5.1)\n",
            "Requirement already satisfied: httpx<1,>=0.23.0 in /home/jhkim/.local/lib/python3.10/site-packages (from openai) (0.25.1)\n",
            "Requirement already satisfied: anyio<4,>=3.5.0 in /home/jhkim/.local/lib/python3.10/site-packages (from openai) (3.7.1)\n",
            "Requirement already satisfied: distro<2,>=1.7.0 in /usr/lib/python3/dist-packages (from openai) (1.7.0)\n",
            "Requirement already satisfied: typing-extensions<5,>=4.5 in /home/jhkim/.local/lib/python3.10/site-packages (from openai) (4.8.0)\n",
            "Requirement already satisfied: tqdm>4 in /home/jhkim/.local/lib/python3.10/site-packages (from openai) (4.66.1)\n",
            "Requirement already satisfied: sniffio>=1.1 in /home/jhkim/.local/lib/python3.10/site-packages (from anyio<4,>=3.5.0->openai) (1.3.0)\n",
            "Requirement already satisfied: idna>=2.8 in /usr/lib/python3/dist-packages (from anyio<4,>=3.5.0->openai) (3.3)\n",
            "Requirement already satisfied: exceptiongroup in /home/jhkim/.local/lib/python3.10/site-packages (from anyio<4,>=3.5.0->openai) (1.1.3)\n",
            "Requirement already satisfied: certifi in /usr/lib/python3/dist-packages (from httpx<1,>=0.23.0->openai) (2020.6.20)\n",
            "Requirement already satisfied: httpcore in /home/jhkim/.local/lib/python3.10/site-packages (from httpx<1,>=0.23.0->openai) (1.0.2)\n",
            "Requirement already satisfied: annotated-types>=0.4.0 in /home/jhkim/.local/lib/python3.10/site-packages (from pydantic<3,>=1.9.0->openai) (0.6.0)\n",
            "Requirement already satisfied: pydantic-core==2.14.3 in /home/jhkim/.local/lib/python3.10/site-packages (from pydantic<3,>=1.9.0->openai) (2.14.3)\n",
            "Requirement already satisfied: h11<0.15,>=0.13 in /home/jhkim/.local/lib/python3.10/site-packages (from httpcore->httpx<1,>=0.23.0->openai) (0.14.0)\n",
            "Defaulting to user installation because normal site-packages is not writeable\n",
            "Requirement already satisfied: psycopg2-binary in /home/jhkim/.local/lib/python3.10/site-packages (2.9.9)\n",
            "Defaulting to user installation because normal site-packages is not writeable\n",
            "Collecting streamlit_extras\n",
            "  Downloading streamlit_extras-0.3.5-py3-none-any.whl (66 kB)\n",
            "\u001b[2K     \u001b[90m━━━━━━━━━━━━━━━━━━━━━━━━━━━━━━━━━━━━━━━━\u001b[0m \u001b[32m66.0/66.0 KB\u001b[0m \u001b[31m1.7 MB/s\u001b[0m eta \u001b[36m0:00:00\u001b[0ma \u001b[36m0:00:01\u001b[0m\n",
            "\u001b[?25hCollecting htbuilder>=0.6.2\n",
            "  Downloading htbuilder-0.6.2-py3-none-any.whl (12 kB)\n",
            "Collecting streamlit-toggle-switch>=1.0.2\n",
            "  Downloading streamlit_toggle_switch-1.0.2-py3-none-any.whl (635 kB)\n",
            "\u001b[2K     \u001b[90m━━━━━━━━━━━━━━━━━━━━━━━━━━━━━━━━━━━━━━━\u001b[0m \u001b[32m635.4/635.4 KB\u001b[0m \u001b[31m9.9 MB/s\u001b[0m eta \u001b[36m0:00:00\u001b[0ma \u001b[36m0:00:01\u001b[0m\n",
            "\u001b[?25hCollecting streamlit-vertical-slider>=1.0.2\n",
            "  Downloading streamlit_vertical_slider-1.0.2-py3-none-any.whl (624 kB)\n",
            "\u001b[2K     \u001b[90m━━━━━━━━━━━━━━━━━━━━━━━━━━━━━━━━━━━━━━━\u001b[0m \u001b[32m624.3/624.3 KB\u001b[0m \u001b[31m9.8 MB/s\u001b[0m eta \u001b[36m0:00:00\u001b[0ma \u001b[36m0:00:01\u001b[0m\n",
            "\u001b[?25hCollecting streamlit-faker>=0.0.2\n",
            "  Downloading streamlit_faker-0.0.3-py3-none-any.whl (14 kB)\n",
            "Requirement already satisfied: protobuf!=3.20.2 in /home/jhkim/.local/lib/python3.10/site-packages (from streamlit_extras) (4.25.1)\n",
            "Collecting streamlit-camera-input-live>=0.2.0\n",
            "  Downloading streamlit_camera_input_live-0.2.0-py3-none-any.whl (6.6 kB)\n",
            "Collecting markdownlit>=0.0.5\n",
            "  Downloading markdownlit-0.0.7-py3-none-any.whl (15 kB)\n",
            "Collecting streamlit-embedcode>=0.1.2\n",
            "  Downloading streamlit_embedcode-0.1.2-py3-none-any.whl (3.5 kB)\n",
            "Collecting streamlit-keyup>=0.1.9\n",
            "  Downloading streamlit_keyup-0.2.0-py3-none-any.whl (7.4 kB)\n",
            "Collecting st-annotated-text>=3.0.0\n",
            "  Downloading st_annotated_text-4.0.1-py3-none-any.whl (9.0 kB)\n",
            "Requirement already satisfied: streamlit>=1.0.0 in /home/jhkim/.local/lib/python3.10/site-packages (from streamlit_extras) (1.28.2)\n",
            "Collecting streamlit-image-coordinates<0.2.0,>=0.1.1\n",
            "  Downloading streamlit_image_coordinates-0.1.6-py3-none-any.whl (6.3 kB)\n",
            "Collecting streamlit-card>=0.0.4\n",
            "  Downloading streamlit_card-0.0.61-py3-none-any.whl (680 kB)\n",
            "\u001b[2K     \u001b[90m━━━━━━━━━━━━━━━━━━━━━━━━━━━━━━━━━━━━━━\u001b[0m \u001b[32m680.5/680.5 KB\u001b[0m \u001b[31m10.0 MB/s\u001b[0m eta \u001b[36m0:00:00\u001b[0ma \u001b[36m0:00:01\u001b[0m\n",
            "\u001b[?25hCollecting entrypoints>=0.4\n",
            "  Downloading entrypoints-0.4-py3-none-any.whl (5.3 kB)\n",
            "Requirement already satisfied: more-itertools in /usr/lib/python3/dist-packages (from htbuilder>=0.6.2->streamlit_extras) (8.10.0)\n",
            "Collecting pymdown-extensions\n",
            "  Downloading pymdown_extensions-10.4-py3-none-any.whl (240 kB)\n",
            "\u001b[2K     \u001b[90m━━━━━━━━━━━━━━━━━━━━━━━━━━━━━━━━━━━━━━━\u001b[0m \u001b[32m240.8/240.8 KB\u001b[0m \u001b[31m7.4 MB/s\u001b[0m eta \u001b[36m0:00:00\u001b[0m\n",
            "\u001b[?25hCollecting favicon\n",
            "  Downloading favicon-0.7.0-py2.py3-none-any.whl (5.9 kB)\n",
            "Collecting markdown\n",
            "  Downloading Markdown-3.5.1-py3-none-any.whl (102 kB)\n",
            "\u001b[2K     \u001b[90m━━━━━━━━━━━━━━━━━━━━━━━━━━━━━━━━━━━━━━━\u001b[0m \u001b[32m102.2/102.2 KB\u001b[0m \u001b[31m5.8 MB/s\u001b[0m eta \u001b[36m0:00:00\u001b[0m\n",
            "\u001b[?25hCollecting lxml\n",
            "  Downloading lxml-4.9.3-cp310-cp310-manylinux_2_28_x86_64.whl (7.9 MB)\n",
            "\u001b[2K     \u001b[90m━━━━━━━━━━━━━━━━━━━━━━━━━━━━━━━━━━━━━━━━\u001b[0m \u001b[32m7.9/7.9 MB\u001b[0m \u001b[31m11.0 MB/s\u001b[0m eta \u001b[36m0:00:00\u001b[0m00:01\u001b[0m00:01\u001b[0m\n",
            "\u001b[?25hRequirement already satisfied: pydeck<1,>=0.8.0b4 in /home/jhkim/.local/lib/python3.10/site-packages (from streamlit>=1.0.0->streamlit_extras) (0.8.1b0)\n",
            "Requirement already satisfied: watchdog>=2.1.5 in /home/jhkim/.local/lib/python3.10/site-packages (from streamlit>=1.0.0->streamlit_extras) (3.0.0)\n",
            "Requirement already satisfied: gitpython!=3.1.19,<4,>=3.0.7 in /home/jhkim/.local/lib/python3.10/site-packages (from streamlit>=1.0.0->streamlit_extras) (3.1.40)\n",
            "Requirement already satisfied: python-dateutil<3,>=2.7.3 in /home/jhkim/.local/lib/python3.10/site-packages (from streamlit>=1.0.0->streamlit_extras) (2.8.2)\n",
            "Requirement already satisfied: packaging<24,>=16.8 in /home/jhkim/.local/lib/python3.10/site-packages (from streamlit>=1.0.0->streamlit_extras) (23.0)\n",
            "Requirement already satisfied: blinker<2,>=1.0.0 in /usr/lib/python3/dist-packages (from streamlit>=1.0.0->streamlit_extras) (1.4)\n",
            "Requirement already satisfied: requests<3,>=2.27 in /home/jhkim/.local/lib/python3.10/site-packages (from streamlit>=1.0.0->streamlit_extras) (2.31.0)\n",
            "Requirement already satisfied: pillow<11,>=7.1.0 in /home/jhkim/.local/lib/python3.10/site-packages (from streamlit>=1.0.0->streamlit_extras) (9.4.0)\n",
            "Requirement already satisfied: typing-extensions<5,>=4.3.0 in /home/jhkim/.local/lib/python3.10/site-packages (from streamlit>=1.0.0->streamlit_extras) (4.8.0)\n",
            "Requirement already satisfied: validators<1,>=0.2 in /home/jhkim/.local/lib/python3.10/site-packages (from streamlit>=1.0.0->streamlit_extras) (0.22.0)\n",
            "Requirement already satisfied: tzlocal<6,>=1.1 in /home/jhkim/.local/lib/python3.10/site-packages (from streamlit>=1.0.0->streamlit_extras) (5.2)\n",
            "Requirement already satisfied: pandas<3,>=1.3.0 in /home/jhkim/.local/lib/python3.10/site-packages (from streamlit>=1.0.0->streamlit_extras) (2.1.3)\n",
            "Requirement already satisfied: rich<14,>=10.14.0 in /home/jhkim/.local/lib/python3.10/site-packages (from streamlit>=1.0.0->streamlit_extras) (13.7.0)\n",
            "Requirement already satisfied: pyarrow>=6.0 in /home/jhkim/.local/lib/python3.10/site-packages (from streamlit>=1.0.0->streamlit_extras) (14.0.1)\n",
            "Requirement already satisfied: tenacity<9,>=8.1.0 in /home/jhkim/.local/lib/python3.10/site-packages (from streamlit>=1.0.0->streamlit_extras) (8.2.3)\n",
            "Requirement already satisfied: cachetools<6,>=4.0 in /home/jhkim/.local/lib/python3.10/site-packages (from streamlit>=1.0.0->streamlit_extras) (5.3.2)\n",
            "Requirement already satisfied: toml<2,>=0.10.1 in /home/jhkim/.local/lib/python3.10/site-packages (from streamlit>=1.0.0->streamlit_extras) (0.10.2)\n",
            "Requirement already satisfied: numpy<2,>=1.19.3 in /home/jhkim/.local/lib/python3.10/site-packages (from streamlit>=1.0.0->streamlit_extras) (1.24.1)\n",
            "Requirement already satisfied: altair<6,>=4.0 in /home/jhkim/.local/lib/python3.10/site-packages (from streamlit>=1.0.0->streamlit_extras) (5.1.2)\n",
            "Requirement already satisfied: importlib-metadata<7,>=1.4 in /home/jhkim/.local/lib/python3.10/site-packages (from streamlit>=1.0.0->streamlit_extras) (6.8.0)\n",
            "Requirement already satisfied: click<9,>=7.0 in /usr/lib/python3/dist-packages (from streamlit>=1.0.0->streamlit_extras) (8.0.3)\n",
            "Requirement already satisfied: tornado<7,>=6.0.3 in /home/jhkim/.local/lib/python3.10/site-packages (from streamlit>=1.0.0->streamlit_extras) (6.3.3)\n",
            "Requirement already satisfied: jinja2 in /usr/lib/python3/dist-packages (from streamlit-camera-input-live>=0.2.0->streamlit_extras) (3.0.3)\n",
            "Requirement already satisfied: matplotlib in /home/jhkim/.local/lib/python3.10/site-packages (from streamlit-faker>=0.0.2->streamlit_extras) (3.6.3)\n",
            "Collecting faker\n",
            "  Downloading Faker-20.1.0-py3-none-any.whl (1.7 MB)\n",
            "\u001b[2K     \u001b[90m━━━━━━━━━━━━━━━━━━━━━━━━━━━━━━━━━━━━━━━━\u001b[0m \u001b[32m1.7/1.7 MB\u001b[0m \u001b[31m10.2 MB/s\u001b[0m eta \u001b[36m0:00:00\u001b[0ma \u001b[36m0:00:01\u001b[0m\n",
            "\u001b[?25hRequirement already satisfied: toolz in /home/jhkim/.local/lib/python3.10/site-packages (from altair<6,>=4.0->streamlit>=1.0.0->streamlit_extras) (0.12.0)\n",
            "Requirement already satisfied: jsonschema>=3.0 in /usr/lib/python3/dist-packages (from altair<6,>=4.0->streamlit>=1.0.0->streamlit_extras) (3.2.0)\n",
            "Requirement already satisfied: gitdb<5,>=4.0.1 in /home/jhkim/.local/lib/python3.10/site-packages (from gitpython!=3.1.19,<4,>=3.0.7->streamlit>=1.0.0->streamlit_extras) (4.0.11)\n",
            "Requirement already satisfied: zipp>=0.5 in /usr/lib/python3/dist-packages (from importlib-metadata<7,>=1.4->streamlit>=1.0.0->streamlit_extras) (1.0.0)\n",
            "Requirement already satisfied: tzdata>=2022.1 in /home/jhkim/.local/lib/python3.10/site-packages (from pandas<3,>=1.3.0->streamlit>=1.0.0->streamlit_extras) (2023.3)\n",
            "Requirement already satisfied: pytz>=2020.1 in /usr/lib/python3/dist-packages (from pandas<3,>=1.3.0->streamlit>=1.0.0->streamlit_extras) (2022.1)\n",
            "Requirement already satisfied: six>=1.5 in /usr/lib/python3/dist-packages (from python-dateutil<3,>=2.7.3->streamlit>=1.0.0->streamlit_extras) (1.16.0)\n",
            "Requirement already satisfied: idna<4,>=2.5 in /usr/lib/python3/dist-packages (from requests<3,>=2.27->streamlit>=1.0.0->streamlit_extras) (3.3)\n",
            "Requirement already satisfied: charset-normalizer<4,>=2 in /home/jhkim/.local/lib/python3.10/site-packages (from requests<3,>=2.27->streamlit>=1.0.0->streamlit_extras) (2.1.1)\n",
            "Requirement already satisfied: urllib3<3,>=1.21.1 in /usr/lib/python3/dist-packages (from requests<3,>=2.27->streamlit>=1.0.0->streamlit_extras) (1.26.5)\n",
            "Requirement already satisfied: certifi>=2017.4.17 in /usr/lib/python3/dist-packages (from requests<3,>=2.27->streamlit>=1.0.0->streamlit_extras) (2020.6.20)\n",
            "Requirement already satisfied: pygments<3.0.0,>=2.13.0 in /home/jhkim/.local/lib/python3.10/site-packages (from rich<14,>=10.14.0->streamlit>=1.0.0->streamlit_extras) (2.17.1)\n",
            "Requirement already satisfied: markdown-it-py>=2.2.0 in /home/jhkim/.local/lib/python3.10/site-packages (from rich<14,>=10.14.0->streamlit>=1.0.0->streamlit_extras) (3.0.0)\n",
            "Collecting beautifulsoup4>=4.7.0\n",
            "  Downloading beautifulsoup4-4.12.2-py3-none-any.whl (142 kB)\n",
            "\u001b[2K     \u001b[90m━━━━━━━━━━━━━━━━━━━━━━━━━━━━━━━━━━━━━━━\u001b[0m \u001b[32m143.0/143.0 KB\u001b[0m \u001b[31m6.5 MB/s\u001b[0m eta \u001b[36m0:00:00\u001b[0m\n",
            "\u001b[?25hRequirement already satisfied: fonttools>=4.22.0 in /home/jhkim/.local/lib/python3.10/site-packages (from matplotlib->streamlit-faker>=0.0.2->streamlit_extras) (4.38.0)\n",
            "Requirement already satisfied: pyparsing>=2.2.1 in /usr/lib/python3/dist-packages (from matplotlib->streamlit-faker>=0.0.2->streamlit_extras) (2.4.7)\n",
            "Requirement already satisfied: contourpy>=1.0.1 in /home/jhkim/.local/lib/python3.10/site-packages (from matplotlib->streamlit-faker>=0.0.2->streamlit_extras) (1.0.7)\n",
            "Requirement already satisfied: cycler>=0.10 in /home/jhkim/.local/lib/python3.10/site-packages (from matplotlib->streamlit-faker>=0.0.2->streamlit_extras) (0.11.0)\n",
            "Requirement already satisfied: kiwisolver>=1.0.1 in /home/jhkim/.local/lib/python3.10/site-packages (from matplotlib->streamlit-faker>=0.0.2->streamlit_extras) (1.4.4)\n",
            "Requirement already satisfied: pyyaml in /usr/lib/python3/dist-packages (from pymdown-extensions->markdownlit>=0.0.5->streamlit_extras) (5.4.1)\n",
            "Collecting soupsieve>1.2\n",
            "  Downloading soupsieve-2.5-py3-none-any.whl (36 kB)\n",
            "Requirement already satisfied: smmap<6,>=3.0.1 in /home/jhkim/.local/lib/python3.10/site-packages (from gitdb<5,>=4.0.1->gitpython!=3.1.19,<4,>=3.0.7->streamlit>=1.0.0->streamlit_extras) (5.0.1)\n",
            "Requirement already satisfied: mdurl~=0.1 in /home/jhkim/.local/lib/python3.10/site-packages (from markdown-it-py>=2.2.0->rich<14,>=10.14.0->streamlit>=1.0.0->streamlit_extras) (0.1.2)\n",
            "Installing collected packages: soupsieve, markdown, lxml, htbuilder, entrypoints, st-annotated-text, pymdown-extensions, faker, beautifulsoup4, favicon, streamlit-vertical-slider, streamlit-toggle-switch, streamlit-keyup, streamlit-image-coordinates, streamlit-embedcode, streamlit-card, streamlit-camera-input-live, streamlit-faker, markdownlit, streamlit_extras\n",
            "Successfully installed beautifulsoup4-4.12.2 entrypoints-0.4 faker-20.1.0 favicon-0.7.0 htbuilder-0.6.2 lxml-4.9.3 markdown-3.5.1 markdownlit-0.0.7 pymdown-extensions-10.4 soupsieve-2.5 st-annotated-text-4.0.1 streamlit-camera-input-live-0.2.0 streamlit-card-0.0.61 streamlit-embedcode-0.1.2 streamlit-faker-0.0.3 streamlit-image-coordinates-0.1.6 streamlit-keyup-0.2.0 streamlit-toggle-switch-1.0.2 streamlit-vertical-slider-1.0.2 streamlit_extras-0.3.5\n"
          ]
        }
      ],
      "source": [
        "!pip install v\n",
        "!pip install streamlit_option_menu\n",
        "!pip install st-pages\n",
        "!pip install cohere\n",
        "!pip install tiktoken\n",
        "!pip install openai\n",
        "!pip install psycopg2-binary\n",
        "!pip install streamlit-extras"
      ]
    },
    {
      "cell_type": "code",
      "execution_count": 2,
      "metadata": {
        "id": "VX_ANJB-a93v"
      },
      "outputs": [
        {
          "name": "stdout",
          "output_type": "stream",
          "text": [
            "\u001b[37;40mnpm\u001b[0m \u001b[0m\u001b[31;40mERR!\u001b[0m \u001b[0m\u001b[35mcode\u001b[0m EBADENGINE\n",
            "\u001b[0m\u001b[37;40mnpm\u001b[0m \u001b[0m\u001b[31;40mERR!\u001b[0m \u001b[0m\u001b[35mengine\u001b[0m Unsupported engine\n",
            "\u001b[0m\u001b[37;40mnpm\u001b[0m \u001b[0m\u001b[31;40mERR!\u001b[0m \u001b[0m\u001b[35mengine\u001b[0m Not compatible with your version of node/npm: npm@10.2.4\n",
            "\u001b[0m\u001b[37;40mnpm\u001b[0m \u001b[0m\u001b[31;40mERR!\u001b[0m \u001b[0m\u001b[35mnotsup\u001b[0m Not compatible with your version of node/npm: npm@10.2.4\n",
            "\u001b[0m\u001b[37;40mnpm\u001b[0m \u001b[0m\u001b[31;40mERR!\u001b[0m \u001b[0m\u001b[35mnotsup\u001b[0m Required: {\"node\":\"^18.17.0 || >=20.5.0\"}\n",
            "\u001b[0m\u001b[37;40mnpm\u001b[0m \u001b[0m\u001b[31;40mERR!\u001b[0m \u001b[0m\u001b[35mnotsup\u001b[0m Actual:   {\"npm\":\"8.5.1\",\"node\":\"v12.22.9\"}\n",
            "\u001b[0m\n",
            "\u001b[37;40mnpm\u001b[0m \u001b[0m\u001b[31;40mERR!\u001b[0m\u001b[35m\u001b[0m A complete log of this run can be found in:\n",
            "\u001b[0m\u001b[37;40mnpm\u001b[0m \u001b[0m\u001b[31;40mERR!\u001b[0m\u001b[35m\u001b[0m     /home/jhkim/.npm/_logs/2023-11-20T06_17_18_892Z-debug-0.log\n",
            "\u001b[0m"
          ]
        }
      ],
      "source": [
        "!npm install -g npm@10.2.4"
      ]
    },
    {
      "cell_type": "code",
      "execution_count": 2,
      "metadata": {
        "id": "k3U0IDulMj13"
      },
      "outputs": [
        {
          "name": "stdout",
          "output_type": "stream",
          "text": [
            "\u001b[K\u001b[?25hm#########\u001b[0m\u001b[100;90m⠂⠂⠂⠂⠂⠂⠂⠂⠂\u001b[0m) ⠙ idealTree: \u001b[32;40mtiming\u001b[0m \u001b[35midealTree\u001b[0m Completed in 149ms\u001b[0m\u001b[K\n",
            "up to date, audited 23 packages in 508ms\n",
            "\n",
            "3 packages are looking for funding\n",
            "  run `npm fund` for details\n",
            "\n",
            "2 \u001b[33m\u001b[1mmoderate\u001b[22m\u001b[39m severity vulnerabilities\n",
            "\n",
            "To address all issues (including breaking changes), run:\n",
            "  npm audit fix --force\n",
            "\n",
            "Run `npm audit` for details.\n"
          ]
        }
      ],
      "source": [
        "!npm install localtunnel"
      ]
    },
    {
      "cell_type": "code",
      "execution_count": 3,
      "metadata": {
        "id": "_ZxP1BFjO5lZ"
      },
      "outputs": [],
      "source": [
        "# !git config --global user.email \"juwonhong@snu.ac.kr\"\n",
        "# !git config --global user.name \"jean-jsj\"\n",
        "!git config --global user.email \"jaehunkim@snu.ac.kr\"\n",
        "!git config --global user.name \"3e91b5\""
      ]
    },
    {
      "cell_type": "code",
      "execution_count": 4,
      "metadata": {
        "id": "aDGRWOOhSFDC"
      },
      "outputs": [
        {
          "name": "stdout",
          "output_type": "stream",
          "text": [
            "Reinitialized existing Git repository in /home/jhkim/ai-edutech/.git/\n",
            "error: remote origin already exists.\n"
          ]
        }
      ],
      "source": [
        "!git init\n",
        "!git remote add origin https://github.com/jean-jsj/ai-edtech.git"
      ]
    },
    {
      "cell_type": "code",
      "execution_count": 7,
      "metadata": {
        "id": "d1FFj8o1S7TC"
      },
      "outputs": [],
      "source": [
        "!git branch -m main"
      ]
    },
    {
      "cell_type": "code",
      "execution_count": 8,
      "metadata": {
        "id": "h4jHPf4cXD4T"
      },
      "outputs": [
        {
          "name": "stdout",
          "output_type": "stream",
          "text": [
            "From https://github.com/jean-jsj/ai-edtech\n",
            " * branch            main       -> FETCH_HEAD\n"
          ]
        }
      ],
      "source": [
        "# !git branch --set-upstream-to=origin/main main\n",
        "!git pull origin main"
      ]
    },
    {
      "cell_type": "code",
      "execution_count": 4,
      "metadata": {},
      "outputs": [
        {
          "name": "stdout",
          "output_type": "stream",
          "text": [
            "Defaulting to user installation because normal site-packages is not writeable\n",
            "Requirement already satisfied: streamlit-extras in /home/jhkim/.local/lib/python3.10/site-packages (0.3.5)\n",
            "Requirement already satisfied: streamlit-keyup>=0.1.9 in /home/jhkim/.local/lib/python3.10/site-packages (from streamlit-extras) (0.2.0)\n",
            "Requirement already satisfied: streamlit-embedcode>=0.1.2 in /home/jhkim/.local/lib/python3.10/site-packages (from streamlit-extras) (0.1.2)\n",
            "Requirement already satisfied: protobuf!=3.20.2 in /home/jhkim/.local/lib/python3.10/site-packages (from streamlit-extras) (4.25.1)\n",
            "Requirement already satisfied: streamlit-camera-input-live>=0.2.0 in /home/jhkim/.local/lib/python3.10/site-packages (from streamlit-extras) (0.2.0)\n",
            "Requirement already satisfied: streamlit-vertical-slider>=1.0.2 in /home/jhkim/.local/lib/python3.10/site-packages (from streamlit-extras) (1.0.2)\n",
            "Requirement already satisfied: streamlit-image-coordinates<0.2.0,>=0.1.1 in /home/jhkim/.local/lib/python3.10/site-packages (from streamlit-extras) (0.1.6)\n",
            "Requirement already satisfied: st-annotated-text>=3.0.0 in /home/jhkim/.local/lib/python3.10/site-packages (from streamlit-extras) (4.0.1)\n",
            "Requirement already satisfied: entrypoints>=0.4 in /home/jhkim/.local/lib/python3.10/site-packages (from streamlit-extras) (0.4)\n",
            "Requirement already satisfied: htbuilder>=0.6.2 in /home/jhkim/.local/lib/python3.10/site-packages (from streamlit-extras) (0.6.2)\n",
            "Requirement already satisfied: streamlit-toggle-switch>=1.0.2 in /home/jhkim/.local/lib/python3.10/site-packages (from streamlit-extras) (1.0.2)\n",
            "Requirement already satisfied: streamlit-card>=0.0.4 in /home/jhkim/.local/lib/python3.10/site-packages (from streamlit-extras) (0.0.61)\n",
            "Requirement already satisfied: streamlit>=1.0.0 in /home/jhkim/.local/lib/python3.10/site-packages (from streamlit-extras) (1.28.2)\n",
            "Requirement already satisfied: markdownlit>=0.0.5 in /home/jhkim/.local/lib/python3.10/site-packages (from streamlit-extras) (0.0.7)\n",
            "Requirement already satisfied: streamlit-faker>=0.0.2 in /home/jhkim/.local/lib/python3.10/site-packages (from streamlit-extras) (0.0.3)\n",
            "Requirement already satisfied: more-itertools in /usr/lib/python3/dist-packages (from htbuilder>=0.6.2->streamlit-extras) (8.10.0)\n",
            "Requirement already satisfied: lxml in /home/jhkim/.local/lib/python3.10/site-packages (from markdownlit>=0.0.5->streamlit-extras) (4.9.3)\n",
            "Requirement already satisfied: pymdown-extensions in /home/jhkim/.local/lib/python3.10/site-packages (from markdownlit>=0.0.5->streamlit-extras) (10.4)\n",
            "Requirement already satisfied: markdown in /home/jhkim/.local/lib/python3.10/site-packages (from markdownlit>=0.0.5->streamlit-extras) (3.5.1)\n",
            "Requirement already satisfied: favicon in /home/jhkim/.local/lib/python3.10/site-packages (from markdownlit>=0.0.5->streamlit-extras) (0.7.0)\n",
            "Requirement already satisfied: requests<3,>=2.27 in /home/jhkim/.local/lib/python3.10/site-packages (from streamlit>=1.0.0->streamlit-extras) (2.31.0)\n",
            "Requirement already satisfied: click<9,>=7.0 in /usr/lib/python3/dist-packages (from streamlit>=1.0.0->streamlit-extras) (8.0.3)\n",
            "Requirement already satisfied: pydeck<1,>=0.8.0b4 in /home/jhkim/.local/lib/python3.10/site-packages (from streamlit>=1.0.0->streamlit-extras) (0.8.1b0)\n",
            "Requirement already satisfied: cachetools<6,>=4.0 in /home/jhkim/.local/lib/python3.10/site-packages (from streamlit>=1.0.0->streamlit-extras) (5.3.2)\n",
            "Requirement already satisfied: validators<1,>=0.2 in /home/jhkim/.local/lib/python3.10/site-packages (from streamlit>=1.0.0->streamlit-extras) (0.22.0)\n",
            "Requirement already satisfied: packaging<24,>=16.8 in /home/jhkim/.local/lib/python3.10/site-packages (from streamlit>=1.0.0->streamlit-extras) (23.0)\n",
            "Requirement already satisfied: pandas<3,>=1.3.0 in /home/jhkim/.local/lib/python3.10/site-packages (from streamlit>=1.0.0->streamlit-extras) (2.1.3)\n",
            "Requirement already satisfied: typing-extensions<5,>=4.3.0 in /home/jhkim/.local/lib/python3.10/site-packages (from streamlit>=1.0.0->streamlit-extras) (4.8.0)\n",
            "Requirement already satisfied: blinker<2,>=1.0.0 in /usr/lib/python3/dist-packages (from streamlit>=1.0.0->streamlit-extras) (1.4)\n",
            "Requirement already satisfied: tzlocal<6,>=1.1 in /home/jhkim/.local/lib/python3.10/site-packages (from streamlit>=1.0.0->streamlit-extras) (5.2)\n",
            "Requirement already satisfied: numpy<2,>=1.19.3 in /home/jhkim/.local/lib/python3.10/site-packages (from streamlit>=1.0.0->streamlit-extras) (1.24.1)\n",
            "Requirement already satisfied: python-dateutil<3,>=2.7.3 in /home/jhkim/.local/lib/python3.10/site-packages (from streamlit>=1.0.0->streamlit-extras) (2.8.2)\n",
            "Requirement already satisfied: rich<14,>=10.14.0 in /home/jhkim/.local/lib/python3.10/site-packages (from streamlit>=1.0.0->streamlit-extras) (13.7.0)\n",
            "Requirement already satisfied: gitpython!=3.1.19,<4,>=3.0.7 in /home/jhkim/.local/lib/python3.10/site-packages (from streamlit>=1.0.0->streamlit-extras) (3.1.40)\n",
            "Requirement already satisfied: toml<2,>=0.10.1 in /home/jhkim/.local/lib/python3.10/site-packages (from streamlit>=1.0.0->streamlit-extras) (0.10.2)\n",
            "Requirement already satisfied: importlib-metadata<7,>=1.4 in /home/jhkim/.local/lib/python3.10/site-packages (from streamlit>=1.0.0->streamlit-extras) (6.8.0)\n",
            "Requirement already satisfied: watchdog>=2.1.5 in /home/jhkim/.local/lib/python3.10/site-packages (from streamlit>=1.0.0->streamlit-extras) (3.0.0)\n",
            "Requirement already satisfied: pillow<11,>=7.1.0 in /home/jhkim/.local/lib/python3.10/site-packages (from streamlit>=1.0.0->streamlit-extras) (9.4.0)\n",
            "Requirement already satisfied: altair<6,>=4.0 in /home/jhkim/.local/lib/python3.10/site-packages (from streamlit>=1.0.0->streamlit-extras) (5.1.2)\n",
            "Requirement already satisfied: tornado<7,>=6.0.3 in /home/jhkim/.local/lib/python3.10/site-packages (from streamlit>=1.0.0->streamlit-extras) (6.3.3)\n",
            "Requirement already satisfied: tenacity<9,>=8.1.0 in /home/jhkim/.local/lib/python3.10/site-packages (from streamlit>=1.0.0->streamlit-extras) (8.2.3)\n",
            "Requirement already satisfied: pyarrow>=6.0 in /home/jhkim/.local/lib/python3.10/site-packages (from streamlit>=1.0.0->streamlit-extras) (14.0.1)\n",
            "Requirement already satisfied: jinja2 in /usr/lib/python3/dist-packages (from streamlit-camera-input-live>=0.2.0->streamlit-extras) (3.0.3)\n",
            "Requirement already satisfied: matplotlib in /home/jhkim/.local/lib/python3.10/site-packages (from streamlit-faker>=0.0.2->streamlit-extras) (3.6.3)\n",
            "Requirement already satisfied: faker in /home/jhkim/.local/lib/python3.10/site-packages (from streamlit-faker>=0.0.2->streamlit-extras) (20.1.0)\n",
            "Requirement already satisfied: jsonschema>=3.0 in /usr/lib/python3/dist-packages (from altair<6,>=4.0->streamlit>=1.0.0->streamlit-extras) (3.2.0)\n",
            "Requirement already satisfied: toolz in /home/jhkim/.local/lib/python3.10/site-packages (from altair<6,>=4.0->streamlit>=1.0.0->streamlit-extras) (0.12.0)\n",
            "Requirement already satisfied: gitdb<5,>=4.0.1 in /home/jhkim/.local/lib/python3.10/site-packages (from gitpython!=3.1.19,<4,>=3.0.7->streamlit>=1.0.0->streamlit-extras) (4.0.11)\n",
            "Requirement already satisfied: zipp>=0.5 in /usr/lib/python3/dist-packages (from importlib-metadata<7,>=1.4->streamlit>=1.0.0->streamlit-extras) (1.0.0)\n",
            "Requirement already satisfied: tzdata>=2022.1 in /home/jhkim/.local/lib/python3.10/site-packages (from pandas<3,>=1.3.0->streamlit>=1.0.0->streamlit-extras) (2023.3)\n",
            "Requirement already satisfied: pytz>=2020.1 in /usr/lib/python3/dist-packages (from pandas<3,>=1.3.0->streamlit>=1.0.0->streamlit-extras) (2022.1)\n",
            "Requirement already satisfied: six>=1.5 in /usr/lib/python3/dist-packages (from python-dateutil<3,>=2.7.3->streamlit>=1.0.0->streamlit-extras) (1.16.0)\n",
            "Requirement already satisfied: urllib3<3,>=1.21.1 in /usr/lib/python3/dist-packages (from requests<3,>=2.27->streamlit>=1.0.0->streamlit-extras) (1.26.5)\n",
            "Requirement already satisfied: certifi>=2017.4.17 in /usr/lib/python3/dist-packages (from requests<3,>=2.27->streamlit>=1.0.0->streamlit-extras) (2020.6.20)\n",
            "Requirement already satisfied: charset-normalizer<4,>=2 in /home/jhkim/.local/lib/python3.10/site-packages (from requests<3,>=2.27->streamlit>=1.0.0->streamlit-extras) (2.1.1)\n",
            "Requirement already satisfied: idna<4,>=2.5 in /usr/lib/python3/dist-packages (from requests<3,>=2.27->streamlit>=1.0.0->streamlit-extras) (3.3)\n",
            "Requirement already satisfied: pygments<3.0.0,>=2.13.0 in /home/jhkim/.local/lib/python3.10/site-packages (from rich<14,>=10.14.0->streamlit>=1.0.0->streamlit-extras) (2.17.1)\n",
            "Requirement already satisfied: markdown-it-py>=2.2.0 in /home/jhkim/.local/lib/python3.10/site-packages (from rich<14,>=10.14.0->streamlit>=1.0.0->streamlit-extras) (3.0.0)\n",
            "Requirement already satisfied: beautifulsoup4>=4.7.0 in /home/jhkim/.local/lib/python3.10/site-packages (from favicon->markdownlit>=0.0.5->streamlit-extras) (4.12.2)\n",
            "Requirement already satisfied: pyparsing>=2.2.1 in /usr/lib/python3/dist-packages (from matplotlib->streamlit-faker>=0.0.2->streamlit-extras) (2.4.7)\n",
            "Requirement already satisfied: cycler>=0.10 in /home/jhkim/.local/lib/python3.10/site-packages (from matplotlib->streamlit-faker>=0.0.2->streamlit-extras) (0.11.0)\n",
            "Requirement already satisfied: contourpy>=1.0.1 in /home/jhkim/.local/lib/python3.10/site-packages (from matplotlib->streamlit-faker>=0.0.2->streamlit-extras) (1.0.7)\n",
            "Requirement already satisfied: kiwisolver>=1.0.1 in /home/jhkim/.local/lib/python3.10/site-packages (from matplotlib->streamlit-faker>=0.0.2->streamlit-extras) (1.4.4)\n",
            "Requirement already satisfied: fonttools>=4.22.0 in /home/jhkim/.local/lib/python3.10/site-packages (from matplotlib->streamlit-faker>=0.0.2->streamlit-extras) (4.38.0)\n",
            "Requirement already satisfied: pyyaml in /usr/lib/python3/dist-packages (from pymdown-extensions->markdownlit>=0.0.5->streamlit-extras) (5.4.1)\n",
            "Requirement already satisfied: soupsieve>1.2 in /home/jhkim/.local/lib/python3.10/site-packages (from beautifulsoup4>=4.7.0->favicon->markdownlit>=0.0.5->streamlit-extras) (2.5)\n",
            "Requirement already satisfied: smmap<6,>=3.0.1 in /home/jhkim/.local/lib/python3.10/site-packages (from gitdb<5,>=4.0.1->gitpython!=3.1.19,<4,>=3.0.7->streamlit>=1.0.0->streamlit-extras) (5.0.1)\n",
            "Requirement already satisfied: mdurl~=0.1 in /home/jhkim/.local/lib/python3.10/site-packages (from markdown-it-py>=2.2.0->rich<14,>=10.14.0->streamlit>=1.0.0->streamlit-extras) (0.1.2)\n"
          ]
        }
      ],
      "source": [
        "!pip install streamlit-extras"
      ]
    },
    {
      "cell_type": "code",
      "execution_count": 6,
      "metadata": {},
      "outputs": [
        {
          "name": "stdout",
          "output_type": "stream",
          "text": [
            "147.46.123.63\n"
          ]
        }
      ],
      "source": [
        "!curl ipv4.icanhazip.com"
      ]
    },
    {
      "cell_type": "code",
      "execution_count": 5,
      "metadata": {
        "colab": {
          "base_uri": "https://localhost:8080/"
        },
        "id": "KaH-nC1PcAdd",
        "outputId": "120453b4-9ce3-491a-8502-9c8c9ad6a67d"
      },
      "outputs": [
        {
          "name": "stdout",
          "output_type": "stream",
          "text": [
            "^C\n"
          ]
        }
      ],
      "source": [
        "!streamlit run main.py &> ./content/logs.txt"
      ]
    },
    {
      "cell_type": "code",
      "execution_count": null,
      "metadata": {
        "id": "BsG1faCbbHAt"
      },
      "outputs": [],
      "source": [
        "!npx localtunnel --port 8501"
      ]
    }
  ],
  "metadata": {
    "colab": {
      "provenance": []
    },
    "kernelspec": {
      "display_name": "Python 3",
      "name": "python3"
    },
    "language_info": {
      "codemirror_mode": {
        "name": "ipython",
        "version": 3
      },
      "file_extension": ".py",
      "mimetype": "text/x-python",
      "name": "python",
      "nbconvert_exporter": "python",
      "pygments_lexer": "ipython3",
      "version": "3.10.12"
    }
  },
  "nbformat": 4,
  "nbformat_minor": 0
}
