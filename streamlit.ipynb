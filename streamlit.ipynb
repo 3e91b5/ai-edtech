{
  "cells": [
    {
      "cell_type": "code",
      "execution_count": null,
      "metadata": {
        "id": "EUk3DFBpaRdr"
      },
      "outputs": [],
      "source": [
        "!pip install v\n",
        "!pip install streamlit_option_menu\n",
        "!pip install st-pages\n",
        "!pip install cohere\n",
        "!pip install tiktoken\n",
        "!pip install openai\n",
        "!pip install psycopg2-binary\n",
        "!pip install streamlit-extras"
      ]
    },
    {
      "cell_type": "code",
      "execution_count": null,
      "metadata": {
        "id": "VX_ANJB-a93v"
      },
      "outputs": [],
      "source": [
        "!npm install -g npm@10.2.4"
      ]
    },
    {
      "cell_type": "code",
      "execution_count": null,
      "metadata": {
        "id": "k3U0IDulMj13"
      },
      "outputs": [],
      "source": [
        "!npm install localtunnel"
      ]
    },
    {
      "cell_type": "code",
      "execution_count": null,
      "metadata": {
        "id": "_ZxP1BFjO5lZ"
      },
      "outputs": [],
      "source": [
        "# !git config --global user.email \"juwonhong@snu.ac.kr\"\n",
        "# !git config --global user.name \"jean-jsj\"\n",
        "!git config --global user.email \"jaehunkim@snu.ac.kr\"\n",
        "!git config --global user.name \"3e91b5\""
      ]
    },
    {
      "cell_type": "code",
      "execution_count": null,
      "metadata": {
        "id": "aDGRWOOhSFDC"
      },
      "outputs": [],
      "source": [
        "!git init\n",
        "!git remote add origin https://github.com/jean-jsj/ai-edtech.git"
      ]
    },
    {
      "cell_type": "code",
      "execution_count": null,
      "metadata": {
        "id": "d1FFj8o1S7TC"
      },
      "outputs": [],
      "source": [
        "!git branch -m main"
      ]
    },
    {
      "cell_type": "code",
      "execution_count": null,
      "metadata": {
        "id": "h4jHPf4cXD4T"
      },
      "outputs": [],
      "source": [
        "# !git branch --set-upstream-to=origin/main main\n",
        "!git pull origin main"
      ]
    },
    {
      "cell_type": "code",
      "execution_count": null,
      "metadata": {},
      "outputs": [],
      "source": [
        "!pip install streamlit-extras"
      ]
    },
    {
      "cell_type": "code",
      "execution_count": null,
      "metadata": {},
      "outputs": [],
      "source": [
        "!curl ipv4.icanhazip.com"
      ]
    },
    {
      "cell_type": "code",
      "execution_count": null,
      "metadata": {
        "colab": {
          "base_uri": "https://localhost:8080/"
        },
        "id": "KaH-nC1PcAdd",
        "outputId": "120453b4-9ce3-491a-8502-9c8c9ad6a67d"
      },
      "outputs": [],
      "source": [
        "!streamlit run main.py &> ./content/logs.txt"
      ]
    },
    {
      "cell_type": "code",
      "execution_count": null,
      "metadata": {
        "id": "BsG1faCbbHAt"
      },
      "outputs": [],
      "source": [
        "!npx localtunnel --port 8501"
      ]
    }
  ],
  "metadata": {
    "colab": {
      "provenance": []
    },
    "kernelspec": {
      "display_name": "Python 3",
      "name": "python3"
    },
    "language_info": {
      "codemirror_mode": {
        "name": "ipython",
        "version": 3
      },
      "file_extension": ".py",
      "mimetype": "text/x-python",
      "name": "python",
      "nbconvert_exporter": "python",
      "pygments_lexer": "ipython3",
      "version": "3.10.12"
    }
  },
  "nbformat": 4,
  "nbformat_minor": 0
}
